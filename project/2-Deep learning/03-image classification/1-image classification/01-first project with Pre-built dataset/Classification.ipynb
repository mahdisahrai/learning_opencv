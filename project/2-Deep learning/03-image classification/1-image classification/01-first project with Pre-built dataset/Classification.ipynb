{
 "cells": [
  {
   "cell_type": "markdown",
   "metadata": {},
   "source": [
    "# developer: Mohammad mehdi Sahraei"
   ]
  },
  {
   "cell_type": "markdown",
   "metadata": {
    "id": "4Iy8g5SDmb-y"
   },
   "source": [
    "### importing libraries"
   ]
  },
  {
   "cell_type": "code",
   "execution_count": 14,
   "metadata": {
    "id": "QQmdE8XsO7aW"
   },
   "outputs": [],
   "source": [
    "import numpy as np\n",
    "from tensorflow import keras\n",
    "from keras.constraints import maxnorm\n",
    "from sklearn import preprocessing\n",
    "from sklearn.preprocessing import OneHotEncoder\n",
    "from keras.models import Sequential, load_model\n",
    "from keras.layers import Conv2D, MaxPool2D, Dense, Dropout, Flatten\n",
    "from keras.layers import BatchNormalization\n",
    "from keras.callbacks import EarlyStopping\n",
    "from sklearn.metrics import confusion_matrix\n",
    "from keras.utils import np_utils\n",
    "from keras.datasets import cifar10\n",
    "import matplotlib.pyplot as plt\n",
    "import pandas as pd\n",
    "import seaborn as sns; sns.set()"
   ]
  },
  {
   "cell_type": "markdown",
   "metadata": {
    "id": "LjHKiGiSmm10"
   },
   "source": [
    "### for preparing "
   ]
  },
  {
   "cell_type": "code",
   "execution_count": 15,
   "metadata": {
    "colab": {
     "base_uri": "https://localhost:8080/"
    },
    "id": "KQenhM1KPJf4",
    "outputId": "9450da45-e1a7-4b8c-e584-873867a0f1de"
   },
   "outputs": [
    {
     "name": "stdout",
     "output_type": "stream",
     "text": [
      "Downloading data from https://www.cs.toronto.edu/~kriz/cifar-10-python.tar.gz\n",
      "170498071/170498071 [==============================] - 6s 0us/step\n"
     ]
    }
   ],
   "source": [
    "(X_train, y_train), (X_test, y_test) = cifar10.load_data()\n",
    "\n",
    "\n",
    "# Normalize the inputs from 0-255 to between 0 and 1 by dividing by 255\n",
    "X_train = X_train.astype('float32')\n",
    "X_test = X_test.astype('float32')\n",
    "X_train = X_train / 255.0\n",
    "X_test = X_test / 255.0\n",
    "\n",
    "\n",
    "# One-hot encode outputs\n",
    "y_train = np_utils.to_categorical(y_train)\n",
    "y_test = np_utils.to_categorical(y_test)\n",
    "\n",
    "\n",
    "num_class = y_test.shape[1] #10\n"
   ]
  },
  {
   "cell_type": "markdown",
   "metadata": {
    "id": "Kxh3NdMjm42e"
   },
   "source": [
    "### for creating layers"
   ]
  },
  {
   "cell_type": "code",
   "execution_count": 17,
   "metadata": {
    "colab": {
     "base_uri": "https://localhost:8080/"
    },
    "id": "AiR_47FdPkGI",
    "outputId": "37816ebd-7672-4b07-e770-7e8f1cb19dfe"
   },
   "outputs": [
    {
     "name": "stdout",
     "output_type": "stream",
     "text": [
      "Model: \"sequential_1\"\n",
      "_________________________________________________________________\n",
      " Layer (type)                Output Shape              Param #   \n",
      "=================================================================\n",
      " conv2d_4 (Conv2D)           (None, 32, 32, 32)        896       \n",
      "                                                                 \n",
      " dropout_6 (Dropout)         (None, 32, 32, 32)        0         \n",
      "                                                                 \n",
      " batch_normalization_5 (Batc  (None, 32, 32, 32)       128       \n",
      " hNormalization)                                                 \n",
      "                                                                 \n",
      " conv2d_5 (Conv2D)           (None, 32, 32, 64)        18496     \n",
      "                                                                 \n",
      " max_pooling2d_2 (MaxPooling  (None, 16, 16, 64)       0         \n",
      " 2D)                                                             \n",
      "                                                                 \n",
      " dropout_7 (Dropout)         (None, 16, 16, 64)        0         \n",
      "                                                                 \n",
      " batch_normalization_6 (Batc  (None, 16, 16, 64)       256       \n",
      " hNormalization)                                                 \n",
      "                                                                 \n",
      " conv2d_6 (Conv2D)           (None, 16, 16, 64)        36928     \n",
      "                                                                 \n",
      " max_pooling2d_3 (MaxPooling  (None, 8, 8, 64)         0         \n",
      " 2D)                                                             \n",
      "                                                                 \n",
      " dropout_8 (Dropout)         (None, 8, 8, 64)          0         \n",
      "                                                                 \n",
      " batch_normalization_7 (Batc  (None, 8, 8, 64)         256       \n",
      " hNormalization)                                                 \n",
      "                                                                 \n",
      " conv2d_7 (Conv2D)           (None, 8, 8, 128)         73856     \n",
      "                                                                 \n",
      " dropout_9 (Dropout)         (None, 8, 8, 128)         0         \n",
      "                                                                 \n",
      " batch_normalization_8 (Batc  (None, 8, 8, 128)        512       \n",
      " hNormalization)                                                 \n",
      "                                                                 \n",
      " flatten_1 (Flatten)         (None, 8192)              0         \n",
      "                                                                 \n",
      " dropout_10 (Dropout)        (None, 8192)              0         \n",
      "                                                                 \n",
      " dense_2 (Dense)             (None, 32)                262176    \n",
      "                                                                 \n",
      " dropout_11 (Dropout)        (None, 32)                0         \n",
      "                                                                 \n",
      " batch_normalization_9 (Batc  (None, 32)               128       \n",
      " hNormalization)                                                 \n",
      "                                                                 \n",
      " dense_3 (Dense)             (None, 10)                330       \n",
      "                                                                 \n",
      "=================================================================\n",
      "Total params: 393,962\n",
      "Trainable params: 393,322\n",
      "Non-trainable params: 640\n",
      "_________________________________________________________________\n"
     ]
    }
   ],
   "source": [
    "\n",
    "model = Sequential()\n",
    "model.add(Conv2D(32, (3,3), padding='same', input_shape=X_train.shape[1:], activation='relu'))\n",
    "model.add(Dropout(0.2)) # Dropout is used for turning off Neurons To prevent other neurons from becoming lazy\n",
    "model.add(BatchNormalization()) # BatchNormalization does normal result for each layer\n",
    "model.add(Conv2D(64, (3,3), padding='same', activation='relu'))\n",
    "model.add(MaxPool2D(2))\n",
    "model.add(Dropout(0.2))\n",
    "model.add(BatchNormalization())\n",
    "model.add(Conv2D(64, (3,3), padding='same', activation='relu'))\n",
    "model.add(MaxPool2D(2))\n",
    "model.add(Dropout(0.2))\n",
    "model.add(BatchNormalization())\n",
    "model.add(Conv2D(128, (3,3), padding='same', activation='relu'))\n",
    "model.add(Dropout(0.2))\n",
    "model.add(BatchNormalization())\n",
    "model.add(Flatten())\n",
    "model.add(Dropout(0.2))\n",
    "model.add(Dense(32, activation='relu'))\n",
    "model.add(Dropout(0.2))\n",
    "model.add(BatchNormalization())\n",
    "model.add(Dense(num_class, activation = 'softmax')) #softmax shows that which is the best result between outputs 0-1 \n",
    "\n",
    "\n",
    "model.compile(loss='categorical_crossentropy', optimizer = 'adam', metrics = ['accuracy']) # categorical_crossentropy: for revising loss\n",
    "\n",
    "model.summary() \n"
   ]
  },
  {
   "cell_type": "markdown",
   "metadata": {
    "id": "zexdS2ftnI12"
   },
   "source": [
    "### training model"
   ]
  },
  {
   "cell_type": "code",
   "execution_count": 18,
   "metadata": {
    "colab": {
     "base_uri": "https://localhost:8080/"
    },
    "id": "6rUAlLkIPuXR",
    "outputId": "3699d1c1-cc19-4927-ab4d-0f1f720530bc"
   },
   "outputs": [
    {
     "name": "stdout",
     "output_type": "stream",
     "text": [
      "Epoch 1/30\n",
      "782/782 [==============================] - 18s 12ms/step - loss: 1.4762 - accuracy: 0.4735 - val_loss: 1.1482 - val_accuracy: 0.5900\n",
      "Epoch 2/30\n",
      "782/782 [==============================] - 8s 11ms/step - loss: 1.0530 - accuracy: 0.6298 - val_loss: 0.8499 - val_accuracy: 0.7018\n",
      "Epoch 3/30\n",
      "782/782 [==============================] - 8s 11ms/step - loss: 0.8960 - accuracy: 0.6862 - val_loss: 0.7414 - val_accuracy: 0.7413\n",
      "Epoch 4/30\n",
      "782/782 [==============================] - 9s 11ms/step - loss: 0.8154 - accuracy: 0.7160 - val_loss: 0.7520 - val_accuracy: 0.7372\n",
      "Epoch 5/30\n",
      "782/782 [==============================] - 8s 11ms/step - loss: 0.7501 - accuracy: 0.7388 - val_loss: 0.6920 - val_accuracy: 0.7545\n",
      "Epoch 6/30\n",
      "782/782 [==============================] - 8s 11ms/step - loss: 0.7018 - accuracy: 0.7548 - val_loss: 0.6333 - val_accuracy: 0.7761\n",
      "Epoch 7/30\n",
      "782/782 [==============================] - 8s 11ms/step - loss: 0.6598 - accuracy: 0.7696 - val_loss: 0.6302 - val_accuracy: 0.7831\n",
      "Epoch 8/30\n",
      "782/782 [==============================] - 9s 11ms/step - loss: 0.6335 - accuracy: 0.7791 - val_loss: 0.6629 - val_accuracy: 0.7730\n",
      "Epoch 9/30\n",
      "782/782 [==============================] - 9s 11ms/step - loss: 0.6035 - accuracy: 0.7891 - val_loss: 0.6205 - val_accuracy: 0.7856\n",
      "Epoch 10/30\n",
      "782/782 [==============================] - 8s 11ms/step - loss: 0.5813 - accuracy: 0.7981 - val_loss: 0.5773 - val_accuracy: 0.8040\n",
      "Epoch 11/30\n",
      "782/782 [==============================] - 8s 11ms/step - loss: 0.5651 - accuracy: 0.8033 - val_loss: 0.7596 - val_accuracy: 0.7411\n",
      "Epoch 12/30\n",
      "782/782 [==============================] - 8s 11ms/step - loss: 0.5407 - accuracy: 0.8120 - val_loss: 0.5983 - val_accuracy: 0.7974\n",
      "Epoch 13/30\n",
      "782/782 [==============================] - 8s 11ms/step - loss: 0.5244 - accuracy: 0.8173 - val_loss: 0.5920 - val_accuracy: 0.8006\n",
      "Epoch 14/30\n",
      "782/782 [==============================] - 8s 11ms/step - loss: 0.5075 - accuracy: 0.8213 - val_loss: 0.5688 - val_accuracy: 0.8070\n",
      "Epoch 15/30\n",
      "782/782 [==============================] - 8s 11ms/step - loss: 0.4967 - accuracy: 0.8268 - val_loss: 0.5613 - val_accuracy: 0.8145\n",
      "Epoch 16/30\n",
      "782/782 [==============================] - 8s 11ms/step - loss: 0.4899 - accuracy: 0.8280 - val_loss: 0.6582 - val_accuracy: 0.7831\n",
      "Epoch 17/30\n",
      "782/782 [==============================] - 8s 11ms/step - loss: 0.4737 - accuracy: 0.8328 - val_loss: 0.5652 - val_accuracy: 0.8073\n",
      "Epoch 18/30\n",
      "782/782 [==============================] - 8s 11ms/step - loss: 0.4687 - accuracy: 0.8350 - val_loss: 0.5894 - val_accuracy: 0.8065\n",
      "Epoch 19/30\n",
      "782/782 [==============================] - 8s 11ms/step - loss: 0.4598 - accuracy: 0.8386 - val_loss: 0.5378 - val_accuracy: 0.8199\n",
      "Epoch 20/30\n",
      "782/782 [==============================] - 8s 11ms/step - loss: 0.4520 - accuracy: 0.8410 - val_loss: 0.5622 - val_accuracy: 0.8118\n",
      "Epoch 21/30\n",
      "782/782 [==============================] - 8s 11ms/step - loss: 0.4427 - accuracy: 0.8425 - val_loss: 0.5346 - val_accuracy: 0.8155\n",
      "Epoch 22/30\n",
      "782/782 [==============================] - 8s 11ms/step - loss: 0.4321 - accuracy: 0.8469 - val_loss: 0.5376 - val_accuracy: 0.8204\n",
      "Epoch 23/30\n",
      "782/782 [==============================] - 9s 11ms/step - loss: 0.4242 - accuracy: 0.8500 - val_loss: 0.5197 - val_accuracy: 0.8277\n",
      "Epoch 24/30\n",
      "782/782 [==============================] - 9s 11ms/step - loss: 0.4188 - accuracy: 0.8518 - val_loss: 0.5180 - val_accuracy: 0.8288\n",
      "Epoch 25/30\n",
      "782/782 [==============================] - 9s 11ms/step - loss: 0.4144 - accuracy: 0.8525 - val_loss: 0.5151 - val_accuracy: 0.8273\n",
      "Epoch 26/30\n",
      "782/782 [==============================] - 9s 11ms/step - loss: 0.4080 - accuracy: 0.8534 - val_loss: 0.5329 - val_accuracy: 0.8240\n",
      "Epoch 27/30\n",
      "782/782 [==============================] - 9s 11ms/step - loss: 0.4039 - accuracy: 0.8559 - val_loss: 0.5633 - val_accuracy: 0.8109\n",
      "Epoch 28/30\n",
      "782/782 [==============================] - 9s 11ms/step - loss: 0.3984 - accuracy: 0.8586 - val_loss: 0.5339 - val_accuracy: 0.8306\n",
      "Epoch 29/30\n",
      "782/782 [==============================] - 9s 11ms/step - loss: 0.3908 - accuracy: 0.8611 - val_loss: 0.5208 - val_accuracy: 0.8253\n",
      "Epoch 30/30\n",
      "782/782 [==============================] - 9s 12ms/step - loss: 0.3826 - accuracy: 0.8641 - val_loss: 0.5326 - val_accuracy: 0.8216\n"
     ]
    }
   ],
   "source": [
    "\n",
    "# batch_size: for example = 50000/64 = 782\n",
    "history = model.fit(X_train, y_train, validation_data=(X_test, y_test), epochs=30, batch_size=64)\n"
   ]
  },
  {
   "cell_type": "markdown",
   "metadata": {
    "id": "tY7LSql9nPGS"
   },
   "source": [
    "### Learning graph"
   ]
  },
  {
   "cell_type": "code",
   "execution_count": 19,
   "metadata": {
    "colab": {
     "base_uri": "https://localhost:8080/",
     "height": 360
    },
    "id": "zAZep8QdQrWc",
    "outputId": "061655b3-9ccd-43e5-96e8-ca908faf65ba"
   },
   "outputs": [
    {
     "name": "stdout",
     "output_type": "stream",
     "text": [
      "loss\n",
      "accuracy\n",
      "val_loss\n",
      "val_accuracy\n"
     ]
    },
    {
     "data": {
      "text/plain": [
       "<matplotlib.axes._subplots.AxesSubplot at 0x7fd9a43c5f90>"
      ]
     },
     "execution_count": 19,
     "metadata": {},
     "output_type": "execute_result"
    },
    {
     "data": {
      "image/png": "[encoded data removed]",
      "text/plain": [
       "<Figure size 432x288 with 1 Axes>"
      ]
     },
     "metadata": {},
     "output_type": "display_data"
    }
   ],
   "source": [
    "for key,val in history.history.items():\n",
    "  print(key)\n",
    "\n",
    "pd.DataFrame(history.history).plot()\n"
   ]
  },
  {
   "cell_type": "markdown",
   "metadata": {
    "id": "atQk4PgWnb2w"
   },
   "source": [
    "### test"
   ]
  },
  {
   "cell_type": "code",
   "execution_count": 49,
   "metadata": {
    "colab": {
     "base_uri": "https://localhost:8080/"
    },
    "id": "LAX9TEVlQ6At",
    "outputId": "d0b2d0b5-2acf-453a-9e5e-19de0f183132"
   },
   "outputs": [
    {
     "name": "stdout",
     "output_type": "stream",
     "text": [
      "1/1 [==============================] - 0s 116ms/step\n"
     ]
    },
    {
     "data": {
      "text/plain": [
       "array([1.2860210e-04, 2.1465319e-06, 4.9034079e-05, 7.6796448e-01,\n",
       "       6.4661463e-06, 2.3136199e-01, 4.1779113e-04, 7.4780837e-06,\n",
       "       6.1504506e-05, 4.4566184e-07], dtype=float32)"
      ]
     },
     "execution_count": 49,
     "metadata": {},
     "output_type": "execute_result"
    }
   ],
   "source": [
    "\n",
    "labels = ['airplane', 'automobile', 'bird', 'cat', 'deer', 'dog', 'frog', 'horse', 'ship', 'truck']\n",
    "\n",
    "model.save('fisrtmodel.h5')\n",
    "loader = load_model('fisrtmodel.h5')\n",
    "\n",
    "loader.predict(X_test[0:10])[0]\n",
    "\n"
   ]
  },
  {
   "cell_type": "code",
   "execution_count": 48,
   "metadata": {
    "colab": {
     "base_uri": "https://localhost:8080/"
    },
    "id": "Im-H_CuToC2u",
    "outputId": "6fab8377-a001-43c1-cb57-0e1bcb044eef"
   },
   "outputs": [
    {
     "data": {
      "text/plain": [
       "array([0, 0, 0, 1, 0, 0, 0, 0, 0, 0])"
      ]
     },
     "execution_count": 48,
     "metadata": {},
     "output_type": "execute_result"
    }
   ],
   "source": [
    "y_test[0]\n"
   ]
  },
  {
   "cell_type": "code",
   "execution_count": 51,
   "metadata": {
    "colab": {
     "base_uri": "https://localhost:8080/",
     "height": 36
    },
    "id": "OKQJ3V5-oPcv",
    "outputId": "c9e0058c-2396-4ddd-dcd5-510334ee3039"
   },
   "outputs": [
    {
     "data": {
      "application/vnd.google.colaboratory.intrinsic+json": {
       "type": "string"
      },
      "text/plain": [
       "'cat'"
      ]
     },
     "execution_count": 51,
     "metadata": {},
     "output_type": "execute_result"
    }
   ],
   "source": [
    "labels[3]"
   ]
  },
  {
   "cell_type": "markdown",
   "metadata": {
    "id": "0_4CK4kPmQnF"
   },
   "source": [
    "### for showing and testing"
   ]
  },
  {
   "cell_type": "code",
   "execution_count": 52,
   "metadata": {
    "id": "RFRti7b0lLL4"
   },
   "outputs": [],
   "source": [
    "\n",
    "# y_test = y_test.astype(int)\n",
    "# predictions = predictions.astype(int)\n",
    "\n",
    "# fig, axes = plt.subplots(ncols=7, nrows=3, sharex=False, sharey=True, figsize=(17, 8))\n",
    "# index = 0\n",
    "# for i in range(3):\n",
    "#     for j in range(7):\n",
    "#         axes[i,j].set_title('actual:' + labels[y_test[index][0]] + '\\n' \n",
    "#                             + 'predicted:' + labels[predictions[index][0]])\n",
    "#         axes[i,j].imshow(X_test[index], cmap='gray')\n",
    "#         axes[i,j].get_xaxis().set_visible(False)\n",
    "#         axes[i,j].get_yaxis().set_visible(False)\n",
    "#         index += 1\n",
    "\n",
    "# plt.show()"
   ]
  }
 ],
 "metadata": {
  "accelerator": "GPU",
  "colab": {
   "collapsed_sections": [],
   "name": "Welcome To Colaboratory",
   "provenance": []
  },
  "gpuClass": "standard",
  "kernelspec": {
   "display_name": "Python 3 (ipykernel)",
   "language": "python",
   "name": "python3"
  },
  "language_info": {
   "codemirror_mode": {
    "name": "ipython",
    "version": 3
   },
   "file_extension": ".py",
   "mimetype": "text/x-python",
   "name": "python",
   "nbconvert_exporter": "python",
   "pygments_lexer": "ipython3",
   "version": "3.8.10"
  }
 },
 "nbformat": 4,
 "nbformat_minor": 1
}
